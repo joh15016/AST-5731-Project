{
 "cells": [
  {
   "cell_type": "code",
   "execution_count": null,
   "metadata": {},
   "outputs": [],
   "source": [
    "import astropy\n",
    "import numpy as np\n",
    "import pandas as pd\n",
    "import matplotlib.pyplot as plt\n",
    "from astropy.io import fits\n",
    "from scipy.stats import beta\n",
    "from scipy.integrate import trapezoid\n",
    "from numpy.random import Generator, PCG64\n",
    "\n",
    "# Set initial seed for random sampling\n",
    "beta.random_state = Generator(PCG64(seed=5731))"
   ]
  },
  {
   "cell_type": "markdown",
   "metadata": {},
   "source": [
    "# Morphology Data\n",
    "\n",
    "---"
   ]
  },
  {
   "cell_type": "code",
   "execution_count": null,
   "metadata": {},
   "outputs": [],
   "source": [
    "morpho = fits.open('manga_visual_morpho-2.0.1.fits')\n",
    "morpho_data = morpho[1].data\n",
    "morpho[1].columns"
   ]
  },
  {
   "cell_type": "code",
   "execution_count": null,
   "metadata": {},
   "outputs": [],
   "source": [
    "# group galaxies according to their types\n",
    "\n",
    "np.unique(morpho_data['Type'])"
   ]
  },
  {
   "cell_type": "code",
   "execution_count": null,
   "metadata": {},
   "outputs": [],
   "source": [
    "# VERY IMPORTANT: GET RID OF REDUNDANT CHARACTERS!!!\n",
    "types = np.char.strip(morpho_data['Type'])\n",
    "\n",
    "early_types = ['E', 'E(dSph)', 'E+E', 'Edc', 'S0', 'S0a', 'S0(dwarf)', 'SAB0', 'SB0', 'SB0a', 'dSph']\n",
    "late_types = ['Sa', 'Sb', 'Sbc', 'Sc', 'Sd', 'Sm', 'Sab', 'Sbc', 'Scd', 'SAB', 'SABa', 'SABb', 'SABbc', 'SABcd',\n",
    "              'SBa', 'SBb', 'SBbc', 'SBcd', 'SBdm', 'SBm', 'S-merger', 'Irr', 'IrrAB', 'IrrB', 'dIrr', 'BCD', 'dwarf']\n",
    "\n",
    "early_mask = np.isin(types, early_types)\n",
    "early_galaxies = morpho_data[early_mask]\n",
    "\n",
    "late_mask = np.isin(types, late_types)\n",
    "late_galaxies = morpho_data[late_mask]\n",
    "\n",
    "print(f\"Number of early-type galaxies: {len(early_galaxies)}\")\n",
    "print(f\"Number of late-type galaxies: {len(late_galaxies)}\")\n",
    "print(f'Number of all galaxies: {len(morpho_data)}')"
   ]
  },
  {
   "cell_type": "code",
   "execution_count": null,
   "metadata": {},
   "outputs": [],
   "source": [
    "early_galaxies['Name']"
   ]
  },
  {
   "cell_type": "markdown",
   "metadata": {},
   "source": [
    "# AGN Data\n",
    "\n",
    "---"
   ]
  },
  {
   "cell_type": "code",
   "execution_count": null,
   "metadata": {},
   "outputs": [],
   "source": [
    "agn = fits.open('manga_agn-v2_0_1.fits')\n",
    "agn_data = agn[1].data\n",
    "agn[1].columns"
   ]
  },
  {
   "cell_type": "code",
   "execution_count": null,
   "metadata": {},
   "outputs": [],
   "source": [
    "# group AGN data according to the hosting galaxy types\n",
    "\n",
    "early_mask = np.isin(agn_data['MANGAID'], early_galaxies['Name'])\n",
    "agn_early = agn_data[early_mask]\n",
    "\n",
    "late_mask = np.isin(agn_data['MANGAID'], late_galaxies['Name'])\n",
    "agn_late = agn_data[late_mask]\n",
    "\n",
    "print(f\"Number of early-type galaxies with AGNs: {len(agn_early)}\")\n",
    "print(f\"Number of late-type galaxies with AGNs: {len(agn_late)}\")"
   ]
  },
  {
   "cell_type": "markdown",
   "metadata": {},
   "source": [
    "# Plots\n",
    "\n",
    "---"
   ]
  },
  {
   "cell_type": "code",
   "execution_count": null,
   "metadata": {},
   "outputs": [],
   "source": [
    "def prior(theta, a, b):\n",
    "    return beta.pdf(theta, a, b)\n",
    "\n",
    "def strl_approx(n):\n",
    "    return (n*np.log(n) - n + np.log(np.pi)/2 +\n",
    "            np.log(8*n**3 + 4*n**2 + n + 1/30)/6)\n",
    "\n",
    "def likelihood(x, theta, n):\n",
    "    log_comb = strl_approx(n) - strl_approx(x) - strl_approx(n - x)\n",
    "    return np.exp(log_comb + x*np.log(theta) + (n-x)*np.log(1 - theta))\n",
    "\n",
    "def posterior(theta, x, n, a, b):\n",
    "    post_dist = likelihood(x, theta, n) * prior(theta, a, b)\n",
    "    evidence = trapezoid(post_dist, theta)\n",
    "    return post_dist / evidence\n",
    "\n",
    "def prior_predictive(x, theta, n, a, b):\n",
    "    return trapezoid(likelihood(x[:, None], theta, n) * prior(theta, a, b), theta)\n",
    "\n",
    "def post_predictive(x, X, theta, n, a, b):\n",
    "    return trapezoid(likelihood(x[:, None], theta, n) * posterior(theta, X, n, a, b), theta)\n",
    "\n",
    "def weighted_quantile(data, weights, q):\n",
    "    cdf = (np.cumsum(weights) - 0.5*weights) / np.sum(weights)\n",
    "    return np.interp(q, cdf, data)"
   ]
  },
  {
   "cell_type": "code",
   "execution_count": null,
   "metadata": {},
   "outputs": [],
   "source": [
    "# Sample theta from uniform distribution and compute posterior\n",
    "N_samples = 100000\n",
    "a, b = 1, 1 # 24, 1000\n",
    "theta = np.sort(beta.rvs(a, b, size=N_samples))\n",
    "n = early_galaxies.shape[-1]\n",
    "x = agn_early.shape[-1]\n",
    "post_dist = posterior(theta, x, n, a, b)\n",
    "\n",
    "# Set up credible interval\n",
    "q_lv = weighted_quantile(theta, post_dist, 0.025)\n",
    "q_uv = weighted_quantile(theta, post_dist, 0.975)\n",
    "lv_ind = np.argmin(theta < q_lv) + 1\n",
    "uv_ind = np.argmax(theta > q_uv) - 1\n",
    "mid_inds = np.logical_and(theta > q_lv, theta < q_uv)\n",
    "\n",
    "# Compute posterior maximum and 95% credible interval\n",
    "mean_theta = np.sum(theta*post_dist) / np.sum(post_dist)\n",
    "print(f'posterior max: {mean_theta:.4f}')\n",
    "print(f'95% credible interval: ({theta[lv_ind]:.4f}, {theta[uv_ind]:.4f})')\n",
    "\n",
    "# Plot posterior distribution\n",
    "plt.figure(figsize=(8, 6))\n",
    "plt.plot(theta, prior(theta, a, b), label='prior')\n",
    "plt.plot(theta[mid_inds], post_dist[mid_inds],\n",
    "         linewidth=2, color='C1', label='posterior')\n",
    "plt.plot(theta[:lv_ind+1], post_dist[:lv_ind+1],\n",
    "         linestyle=':', linewidth=1.5, color='C1')\n",
    "plt.plot(theta[uv_ind-1:], post_dist[uv_ind-1:],\n",
    "         linestyle=':', linewidth=1.5, color='C1')\n",
    "plt.axvline(mean_theta, color='k', linestyle='--', label='posterior mean')\n",
    "plt.fill_between(theta[mid_inds], post_dist[mid_inds], alpha=0.67,\n",
    "                 label='95% credible interval', color='C1')\n",
    "plt.title('Probability distribution for Early Type AGNs')\n",
    "plt.xlabel(r'$\\theta$ = P(Early Type with AGN)')\n",
    "plt.ylabel('Probability density')\n",
    "plt.xlim(0.0, 0.1)\n",
    "plt.legend()\n",
    "# plt.savefig('Early_Type_Posterior.png')\n",
    "plt.show()\n",
    "\n",
    "x_cutoff = 500\n",
    "x_new = np.arange(1, x_cutoff)\n",
    "plt.figure(figsize=(8, 6))\n",
    "plt.plot(x_new, prior_predictive(x_new, theta, n, a, b), label='prior predictive', color='C2')\n",
    "plt.plot(x_new, post_predictive(x_new, x, theta, n, a, b), label='posterior predictive', color='C0')\n",
    "plt.plot(theta*n, post_dist/trapezoid(post_dist, theta*n), label='posterior', linestyle='--', color='C1')\n",
    "plt.title('Probability distribution for Early Type AGNs')\n",
    "plt.xlabel('Number of Early Type with AGN')\n",
    "plt.ylabel('Probability density')\n",
    "plt.xlim(0, x_cutoff)\n",
    "plt.legend()\n",
    "# plt.savefig('Early_Type_Predicative.png')\n",
    "plt.show()"
   ]
  },
  {
   "cell_type": "code",
   "execution_count": null,
   "metadata": {},
   "outputs": [],
   "source": [
    "# Sample theta from uniform distribution and compute posterior\n",
    "N_samples = 100000\n",
    "a, b = 1, 1 # 3, 100\n",
    "theta = np.sort(beta.rvs(a, b, size=N_samples))\n",
    "n = late_galaxies.shape[-1]\n",
    "x = agn_late.shape[-1]\n",
    "post_dist = posterior(theta, x, n, a, b)\n",
    "\n",
    "# Set up credible interval\n",
    "q_lv = weighted_quantile(theta, post_dist, 0.025)\n",
    "q_uv = weighted_quantile(theta, post_dist, 0.975)\n",
    "lv_ind = np.argmin(theta < q_lv) + 1\n",
    "uv_ind = np.argmax(theta > q_uv) - 1\n",
    "mid_inds = np.logical_and(theta > q_lv, theta < q_uv)\n",
    "\n",
    "# Compute posterior mean and 95% credible interval\n",
    "mean_theta = np.sum(theta*post_dist) / np.sum(post_dist)\n",
    "print(f'posterior max: {mean_theta:.4f}')\n",
    "print(f'95% credible interval: ({theta[lv_ind]:.4f}, {theta[uv_ind]:.4f})')\n",
    "\n",
    "# Plot posterior distribution\n",
    "plt.figure(figsize=(8, 6))\n",
    "plt.plot(theta, prior(theta, a, b), label='prior')\n",
    "plt.plot(theta[mid_inds], post_dist[mid_inds],\n",
    "         linewidth=2, color='C1', label='posterior')\n",
    "plt.plot(theta[:lv_ind+1], post_dist[:lv_ind+1],\n",
    "         linestyle=':', linewidth=1.5, color='C1')\n",
    "plt.plot(theta[uv_ind-1:], post_dist[uv_ind-1:],\n",
    "         linestyle=':', linewidth=1.5, color='C1')\n",
    "plt.axvline(mean_theta, color='k', linestyle='--', label='posterior mean')\n",
    "plt.fill_between(theta[mid_inds], post_dist[mid_inds], alpha=0.67,\n",
    "                 label='95% credible interval', color='C1')\n",
    "plt.title('Probability distribution for Late Type AGNs')\n",
    "plt.xlabel(r'$\\theta$ = P(Late Type with AGN)')\n",
    "plt.ylabel('Probability density')\n",
    "plt.xlim(0.0, 0.05)\n",
    "plt.legend()\n",
    "# plt.savefig('Late_Type_Posterior.png')\n",
    "plt.show()\n",
    "\n",
    "\n",
    "x_cutoff = 250\n",
    "x_new = np.arange(1, x_cutoff)\n",
    "plt.figure(figsize=(8, 6))\n",
    "plt.plot(x_new, prior_predictive(x_new, theta, n, a, b), label='prior predictive', color='C2')\n",
    "plt.plot(x_new, post_predictive(x_new, x, theta, n, a, b), label='posterior predictive', color='C0')\n",
    "plt.plot(theta*n, post_dist/trapezoid(post_dist, theta*n), label='posterior', linestyle='--', color='C1')\n",
    "plt.title('Probability distribution for Late Type AGNs')\n",
    "plt.xlabel('Number of Late Type with AGN')\n",
    "plt.ylabel('Probability density')\n",
    "plt.xlim(0, x_cutoff)\n",
    "plt.legend()\n",
    "# plt.savefig('Late_Type_Predicative.png')\n",
    "plt.show()"
   ]
  }
 ],
 "metadata": {
  "kernelspec": {
   "display_name": "Python 3 (ipykernel)",
   "language": "python",
   "name": "python3"
  },
  "language_info": {
   "codemirror_mode": {
    "name": "ipython",
    "version": 3
   },
   "file_extension": ".py",
   "mimetype": "text/x-python",
   "name": "python",
   "nbconvert_exporter": "python",
   "pygments_lexer": "ipython3",
   "version": "3.12.4"
  }
 },
 "nbformat": 4,
 "nbformat_minor": 4
}
