{
 "cells": [
  {
   "cell_type": "code",
   "execution_count": 1,
   "metadata": {},
   "outputs": [],
   "source": [
    "import astropy\n",
    "from astropy.io import ascii\n",
    "import numpy as np\n",
    "import matplotlib.pyplot as plt"
   ]
  },
  {
   "cell_type": "markdown",
   "metadata": {},
   "source": [
    "# Morphology Data\n",
    "\n",
    "---"
   ]
  },
  {
   "cell_type": "code",
   "execution_count": 2,
   "metadata": {},
   "outputs": [
    {
     "data": {
      "text/plain": [
       "ColDefs(\n",
       "    name = 'Name'; format = '17A'\n",
       "    name = 'plateifu'; format = '11A'\n",
       "    name = 'MANGAID'; format = '9A'\n",
       "    name = 'objra'; format = 'D'\n",
       "    name = 'objdec'; format = 'D'\n",
       "    name = 'Type'; format = '11A'\n",
       "    name = 'TType'; format = 'I'; null = -32768\n",
       "    name = 'Unsure'; format = 'I'; null = -32768\n",
       "    name = 'Bars'; format = 'E'\n",
       "    name = 'Edge_on'; format = 'I'; null = -32768\n",
       "    name = 'Tidal'; format = 'I'; null = -32768\n",
       "    name = 'C'; format = 'E'\n",
       "    name = 'E_C'; format = 'E'\n",
       "    name = 'A'; format = 'E'\n",
       "    name = 'E_A'; format = 'E'\n",
       "    name = 'S'; format = 'E'\n",
       "    name = 'E_S'; format = 'E'\n",
       "    name = 'cas_flag'; format = 'J'; null = -2147483648\n",
       ")"
      ]
     },
     "execution_count": 2,
     "metadata": {},
     "output_type": "execute_result"
    }
   ],
   "source": [
    "morpho = astropy.io.fits.open('manga_visual_morpho-2.0.1.fits')\n",
    "morpho_data = morpho[1].data\n",
    "morpho[1].columns"
   ]
  },
  {
   "cell_type": "code",
   "execution_count": 3,
   "metadata": {},
   "outputs": [
    {
     "data": {
      "text/plain": [
       "chararray(['BCD', 'E', 'E(dSph)', 'E+E', 'Edc', 'Irr', 'IrrAB', 'IrrB',\n",
       "           'S', 'S-merger', 'S0', 'S0(dwarf)', 'S0a', 'SAB', 'SAB-merger',\n",
       "           'SAB0', 'SAB0a', 'SABa', 'SABab', 'SABb', 'SABbc', 'SABc',\n",
       "           'SABcd', 'SABd', 'SABdm', 'SABm', 'SB0', 'SB0a', 'SBa', 'SBab',\n",
       "           'SBb', 'SBbc', 'SBc', 'SBcd', 'SBd', 'SBdm', 'SBm', 'Sa',\n",
       "           'Sab', 'Sb', 'Sbc', 'Sc', 'Scd', 'Sd', 'Sdm', 'Sm', 'dIrr',\n",
       "           'dSph', 'dwarf', 'interacting'], dtype='<U11')"
      ]
     },
     "execution_count": 3,
     "metadata": {},
     "output_type": "execute_result"
    }
   ],
   "source": [
    "# group galaxies according to their types\n",
    "\n",
    "np.unique(morpho_data['Type'])"
   ]
  },
  {
   "cell_type": "code",
   "execution_count": 4,
   "metadata": {},
   "outputs": [
    {
     "name": "stdout",
     "output_type": "stream",
     "text": [
      "Number of early-type galaxies: 3626\n",
      "Number of late-type galaxies: 4975\n",
      "Number of all galaxies: 10126\n"
     ]
    }
   ],
   "source": [
    "# VERY IMPORTANT: GET RID OF REDUNDANT CHARACTERS!!!\n",
    "types = np.char.strip(morpho_data['Type'])\n",
    "\n",
    "early_types = ['E', 'E(dSph)', 'E+E', 'Edc', 'S0', 'S0a', 'S0(dwarf)', 'SAB0', 'SB0', 'SB0a', 'dSph']\n",
    "late_types = ['Sa', 'Sb', 'Sbc', 'Sc', 'Sd', 'Sm', 'Sab', 'Sbc', 'Scd', 'SAB', 'SABa', 'SABb', 'SABbc', 'SABcd',\n",
    "              'SBa', 'SBb', 'SBbc', 'SBcd', 'SBdm', 'SBm', 'S-merger', 'Irr', 'IrrAB', 'IrrB', 'dIrr', 'BCD', 'dwarf']\n",
    "\n",
    "early_mask = np.isin(types, early_types)\n",
    "early_galaxies = morpho_data[early_mask]\n",
    "\n",
    "late_mask = np.isin(types, late_types)\n",
    "late_galaxies = morpho_data[late_mask]\n",
    "\n",
    "print(f\"Number of early-type galaxies: {len(early_galaxies)}\")\n",
    "print(f\"Number of late-type galaxies: {len(late_galaxies)}\")\n",
    "print(f'Number of all galaxies: {len(morpho_data)}')"
   ]
  },
  {
   "cell_type": "markdown",
   "metadata": {},
   "source": [
    "# AGN Data\n",
    "\n",
    "---"
   ]
  },
  {
   "cell_type": "code",
   "execution_count": 7,
   "metadata": {},
   "outputs": [
    {
     "data": {
      "text/plain": [
       "ColDefs(\n",
       "    name = 'MANGAID'; format = '17A'\n",
       "    name = 'RA'; format = 'E'\n",
       "    name = 'DEC'; format = 'E'\n",
       "    name = 'Z'; format = 'E'\n",
       "    name = 'WISE_AGN'; format = 'I'\n",
       "    name = 'LOG_LBOL_WISE'; format = 'E'\n",
       "    name = 'LOG_LBOL_WISE_ERR'; format = 'E'\n",
       "    name = 'BAT_AGN'; format = 'I'\n",
       "    name = 'LOG_LBOL_BAT'; format = 'E'\n",
       "    name = 'LOG_LBOL_BAT_ERR'; format = 'E'\n",
       "    name = 'RADIO_AGN'; format = 'I'\n",
       "    name = 'LOG_LBOL_RADIO'; format = 'E'\n",
       "    name = 'LOG_LBOL_RADIO_ERR'; format = 'E'\n",
       "    name = 'RADIO_CLASS'; format = '4A'\n",
       "    name = 'BROAD_AGN'; format = 'I'\n",
       "    name = 'LOG_LBOL_BROAD'; format = 'E'\n",
       "    name = 'LOG_LBOL_BROAD_ERR'; format = 'E'\n",
       ")"
      ]
     },
     "execution_count": 7,
     "metadata": {},
     "output_type": "execute_result"
    }
   ],
   "source": [
    "agn = astropy.io.fits.open('manga_agn-v2_0_1.fits')\n",
    "agn_data = agn[1].data\n",
    "agn[1].columns"
   ]
  },
  {
   "cell_type": "code",
   "execution_count": 12,
   "metadata": {},
   "outputs": [
    {
     "name": "stdout",
     "output_type": "stream",
     "text": [
      "Number of early-type galaxies with AGNs: 236\n",
      "Number of late-type galaxies with AGNs: 112\n"
     ]
    }
   ],
   "source": [
    "# group AGN data according to the hosting galaxy types\n",
    "\n",
    "early_mask = np.isin(agn_data['MANGAID'], early_galaxies['Name'])\n",
    "early_agn = agn_data[early_mask]\n",
    "\n",
    "late_mask = np.isin(agn_data['MANGAID'], late_galaxies['Name'])\n",
    "late_agn = agn_data[late_mask]\n",
    "\n",
    "print(f\"Number of early-type galaxies with AGNs: {len(early_agn)}\")\n",
    "print(f\"Number of late-type galaxies with AGNs: {len(late_agn)}\")"
   ]
  },
  {
   "cell_type": "markdown",
   "metadata": {},
   "source": [
    "# Plots\n",
    "\n",
    "---"
   ]
  },
  {
   "cell_type": "code",
   "execution_count": 82,
   "metadata": {},
   "outputs": [
    {
     "data": {
      "image/png": "[encoded data removed]",
      "text/plain": [
       "<Figure size 640x480 with 1 Axes>"
      ]
     },
     "metadata": {},
     "output_type": "display_data"
    }
   ],
   "source": [
    "# plotting parameters\n",
    "x = [0.3, 0.7]\n",
    "bar_width = 0.2\n",
    "prop_cycle = plt.rcParams['axes.prop_cycle'] # colors\n",
    "colors = prop_cycle.by_key()['color']\n",
    "\n",
    "plt.bar(x[0], len(early_agn), width=bar_width, color=colors[0], label='With AGN')\n",
    "plt.bar(x[0], len(early_galaxies) - len(early_agn), width=bar_width, bottom=len(early_agn), color='skyblue', label='Without AGN')\n",
    "plt.bar(x[1], len(late_agn), width=bar_width, color=colors[0])\n",
    "plt.bar(x[1], len(late_galaxies) - len(late_agn), bottom=len(late_agn), width=bar_width, color='skyblue')\n",
    "plt.legend()\n",
    "plt.xticks(x, ['Early-type galaxies', 'Late-type galaxies'])\n",
    "plt.xlim(0, 1)\n",
    "plt.title('Data Visualization');"
   ]
  },
  {
   "cell_type": "code",
   "execution_count": null,
   "metadata": {},
   "outputs": [],
   "source": []
  }
 ],
 "metadata": {
  "kernelspec": {
   "display_name": "Python 3",
   "language": "python",
   "name": "python3"
  },
  "language_info": {
   "codemirror_mode": {
    "name": "ipython",
    "version": 3
   },
   "file_extension": ".py",
   "mimetype": "text/x-python",
   "name": "python",
   "nbconvert_exporter": "python",
   "pygments_lexer": "ipython3",
   "version": "3.12.5"
  }
 },
 "nbformat": 4,
 "nbformat_minor": 2
}
